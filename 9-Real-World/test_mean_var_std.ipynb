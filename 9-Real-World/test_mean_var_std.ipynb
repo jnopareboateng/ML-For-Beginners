import numpy as np

def test_calculate():
    # Test case 1: Valid input
    input_list = [1, 2, 3, 4, 5, 6, 7, 8, 9]
    expected_output = {
        'mean': [[4.0, 5.0, 6.0], [2.0, 5.0, 8.0], 5.0],
        'variance': [[6.0, 6.0, 6.0], [0.6666666666666666, 0.6666666666666666, 0.6666666666666666], 6.666666666666667],
        'standard deviation': [[2.449489742783178, 2.449489742783178, 2.449489742783178], [0.816496580927726, 0.816496580927726, 0.816496580927726], 2.581988897471611],
        'max': [[7, 8, 9], [3, 6, 9], 9],
        'min': [[1, 2, 3], [1, 4, 7], 1],
        'sum': [[12, 15, 18], [6, 15, 24], 45]
    }
    assert calculate(input_list) == expected_output

    # Test case 2: Invalid input (less than 9 numbers)
    input_list = [1, 2, 3, 4, 5, 6, 7, 8]
    try:
        calculate(input_list)
        assert False, "Expected ValueError"
    except ValueError as e:
        assert str(e) == "List must contain nine numbers."

    # Test case 3: Invalid input (more than 9 numbers)
    input_list = [1, 2, 3, 4, 5, 6, 7, 8, 9, 10]
    try:
        calculate(input_list)
        assert False, "Expected ValueError"
    except ValueError as e:
        assert str(e) == "List must contain nine numbers."

    # Test case 4: All zeros
    input_list = [0, 0, 0, 0, 0, 0, 0, 0, 0]
    expected_output = {
        'mean': [[0.0, 0.0, 0.0], [0.0, 0.0, 0.0], 0.0],
        'variance': [[0.0, 0.0, 0.0], [0.0, 0.0, 0.0], 0.0],
        'standard deviation': [[0.0, 0.0, 0.0], [0.0, 0.0, 0.0], 0.0],
        'max': [[0, 0, 0], [0, 0, 0], 0],
        'min': [[0, 0, 0], [0, 0, 0], 0],
        'sum': [[0, 0, 0], [0, 0, 0], 0]
    }
    assert calculate(input_list) == expected_output

    print("All test cases pass")

test_calculate()def test_calculate():
    # Test case 1: Valid input
    input_list = [1, 2, 3, 4, 5, 6, 7, 8, 9]
    expected_output = {
        'mean': [[4.0, 5.0, 6.0], [2.0, 5.0, 8.0], 5.0],
        'variance': [[6.0, 6.0, 6.0], [0.6666666666666666, 0.6666666666666666, 0.6666666666666666], 6.666666666666667],
        'standard deviation': [[2.449489742783178, 2.449489742783178, 2.449489742783178], [0.816496580927726, 0.816496580927726, 0.816496580927726], 2.581988897471611],
        'max': [[7, 8, 9], [3, 6, 9], 9],
        'min': [[1, 2, 3], [1, 4, 7], 1],
        'sum': [[12, 15, 18], [6, 15, 24], 45]
    }
    assert calculate(input_list) == expected_output

    # Test case 2: Invalid input (less than 9 numbers)
    input_list = [1, 2, 3, 4, 5, 6, 7, 8]
    try:
        calculate(input_list)
        assert False, "Expected ValueError"
    except ValueError as e:
        assert str(e) == "List must contain nine numbers."

    # Test case 3: Invalid input (more than 9 numbers)
    input_list = [1, 2, 3, 4, 5, 6, 7, 8, 9, 10]
    try:
        calculate(input_list)
        assert False, "Expected ValueError"
    except ValueError as e:
        assert str(e) == "List must contain nine numbers."

    # Test case 4: All zeros
    input_list = [0, 0, 0, 0, 0, 0, 0, 0, 0]
    expected_output = {
        'mean': [[0.0, 0.0, 0.0], [0.0, 0.0, 0.0], 0.0],
        'variance': [[0.0, 0.0, 0.0], [0.0, 0.0, 0.0], 0.0],
        'standard deviation': [[0.0, 0.0, 0.0], [0.0, 0.0, 0.0], 0.0],
        'max': [[0, 0, 0], [0, 0, 0], 0],
        'min': [[0, 0, 0], [0, 0, 0], 0],
        'sum': [[0, 0, 0], [0, 0, 0], 0]
    }
    assert calculate(input_list) == expected_output

    print("All test cases pass")

test_calculate()